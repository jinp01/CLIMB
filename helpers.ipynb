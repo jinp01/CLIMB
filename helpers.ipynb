{
 "cells": [
  {
   "cell_type": "code",
   "execution_count": 1,
   "id": "458bdd66",
   "metadata": {},
   "outputs": [],
   "source": [
    "import numpy as np\n",
    "from tqdm import tqdm #Progress bar for a \"for\" loop"
   ]
  },
  {
   "cell_type": "code",
   "execution_count": null,
   "id": "c739b4db",
   "metadata": {},
   "outputs": [],
   "source": [
    "def tapply_mean(subs, val, sz=None):\n",
    "    if sz is None:\n",
    "        sz = (np.max(subs),)\n",
    "    A = np.zeros(sz, dtype=np.float64)\n",
    "    counter = np.zeros(sz, dtype=np.int64)\n",
    "    for i in range(len(val)):\n",
    "        A[subs[i]] += val[i]\n",
    "        counter[subs[i]] += 1\n",
    "    return A / counter"
   ]
  },
  {
   "cell_type": "code",
   "execution_count": null,
   "id": "4dd58e30",
   "metadata": {},
   "outputs": [],
   "source": [
    "def update_tune_df(tune_df, acpt_rt, opt_rt, gamma1):\n",
    "    return max(np.exp(np.log(tune_df) - gamma1 * (acpt_rt - opt_rt)), 50)"
   ]
  },
  {
   "cell_type": "code",
   "execution_count": null,
   "id": "66ed3fca",
   "metadata": {},
   "outputs": [],
   "source": [
    "def extend_mcmc(dat, chain, tune_df_chain, hyp, alpha, nstep, labels, opt_rate=0.3):\n",
    "    nw = chain.shape[0]\n",
    "    n, nd = dat.shape\n",
    "    nm = chain[0, 0][2].shape[0]\n",
    "    labels = np.array([list(map(int, list(x))) - 1 for x in labels])\n",
    "    curLen = chain.shape[1]\n",
    "    tune_df = tune_df_chain[:, curLen - 1]\n",
    "\n",
    "    # Initial estimates at NIW, prop, and z for each walker and each temperature\n",
    "    param = [(None, None, None)] * nw\n",
    "    for i in range(nw):\n",
    "        dictionary = [{} for _ in range(nm)]\n",
    "        for m in range(nm):\n",
    "            Sigma = chain[i, curLen][0][m][\"Sigma\"]\n",
    "            mu = chain[i, curLen][0][m][\"mu\"]\n",
    "            dictionary[m][\"mu\"] = mu\n",
    "            dictionary[m][\"Sigma\"] = Sigma\n",
    "        initprop = chain[i, curLen][1]\n",
    "        z = chain[i, curLen][2]\n",
    "        param[i] = (dictionary, initprop, z)\n",
    "\n",
    "    chain = np.empty((nw, nstep + 1), dtype=object)\n",
    "\n",
    "    for j in range(nw):\n",
    "        chain[j, 0] = param[j]\n",
    "\n",
    "    acpt_tracker = np.zeros(nm)\n",
    "\n",
    "    # For tracking the acceptance rate, per cluster, for the adaptive tuning variance\n",
    "    win_len = min(nstep, 50)\n",
    "    acpt_win = np.zeros((nm, win_len))\n",
    "    acpt_chain = np.zeros((nm, nstep))\n",
    "\n",
    "    old_tune_df = np.copy(tune_df)\n",
    "    tune_df_chain = np.zeros((nm, nstep))\n",
    "\n",
    "    for i in tqdm(range(nstep), desc=\"Running the MCMC...\"):\n",
    "        # Proposes IW cluster at a time, accepts/rejects/returns new IW\n",
    "        NIW, acpt = make_mcmc_move(dat, chain[:, i], hyp, alpha, labels, tune_df)\n",
    "        acpt_tracker += acpt\n",
    "        acpt_win[:, (i - 1) % win_len] = acpt\n",
    "\n",
    "        # Makes Gibbs updates of means, mixing weights, and class labels\n",
    "        newz, newNIW, newprop = make_gibbs_update(dat, chain[:, i], hyp, alpha, labels)\n",
    "\n",
    "        if i > 50:\n",
    "            # Update tuning parameter per cluster\n",
    "            gamma1 = 10 / (i ** 0.8)\n",
    "            old_tune_df = np.copy(tune_df)\n",
    "            tune_df = np.array([update_tune_df(tune_df[m], np.mean(acpt_win[m, :]), opt_rate, gamma1) for m in range(nm)])\n",
    "\n",
    "        for j in range(nw):\n",
    "            chain_link = list(param)\n",
    "\n",
    "            chain_link[j][0] = newNIW[j]\n",
    "            chain_link[j][1] = newprop[j]\n",
    "            chain_link[j][2] = newz[j]\n",
    "\n",
    "            chain[j, i + 1] = chain_link[j]\n",
    "            acpt_chain[:, i] = acpt_tracker / (i + 1)\n",
    "            tune_df_chain[:, i] = tune_df\n",
    "\n",
    "    return chain, acpt_chain, tune_df_chain"
   ]
  }
 ],
 "metadata": {
  "kernelspec": {
   "display_name": "Python 3 (ipykernel)",
   "language": "python",
   "name": "python3"
  },
  "language_info": {
   "codemirror_mode": {
    "name": "ipython",
    "version": 3
   },
   "file_extension": ".py",
   "mimetype": "text/x-python",
   "name": "python",
   "nbconvert_exporter": "python",
   "pygments_lexer": "ipython3",
   "version": "3.9.7"
  }
 },
 "nbformat": 4,
 "nbformat_minor": 5
}
