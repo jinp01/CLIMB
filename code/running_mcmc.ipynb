{
 "cells": [
  {
   "cell_type": "code",
   "execution_count": 132,
   "id": "a29728a0",
   "metadata": {},
   "outputs": [],
   "source": [
    "%run cgibbs.ipynb"
   ]
  },
  {
   "cell_type": "code",
   "execution_count": 133,
   "id": "03a6ead6",
   "metadata": {},
   "outputs": [],
   "source": [
    "import pyreadr\n",
    "import pandas as pd\n",
    "import numpy as np"
   ]
  },
  {
   "cell_type": "code",
   "execution_count": 134,
   "id": "0245dd7a",
   "metadata": {},
   "outputs": [],
   "source": [
    "# load in data\n",
    "\n",
    "sim = pyreadr.read_r('~/sim.RData')\n",
    "Psi0 = pyreadr.read_r('~/hyp_Psi0.RData')\n",
    "mu0 = pyreadr.read_r('~/hyp_mu0.RData')\n",
    "alpha = pyreadr.read_r('~/hyp_alpha.RData')\n",
    "kappa0 = pyreadr.read_r('~/hyp_kappa0.RData')\n",
    "retained_classes = pd.read_csv(\"~/retained_classes.txt\", sep=\"\\t\", header=None)"
   ]
  },
  {
   "cell_type": "code",
   "execution_count": 182,
   "id": "b3ca38e0",
   "metadata": {},
   "outputs": [],
   "source": [
    "# assign run_mcmc() parameters\n",
    "\n",
    "Psi0 = Psi0['Psi0'].values\n",
    "mu0 = mu0['mu0'].values\n",
    "alpha = alpha['alpha'].values.T[0]\n",
    "kappa0 = kappa0['kappa0'].values.T[0]\n",
    "\n",
    "dat = sim['sim.dat']\n",
    "dm = dat.shape[1]\n",
    "n = dat.shape[0]\n",
    "nm = len(alpha)\n",
    "nw = 1\n",
    "\n",
    "alph = alpha\n",
    "hyp = [kappa0, mu0, Psi0]\n",
    "reduced_classes = retained_classes\n",
    "nstep = 1000\n",
    "tune_df = np.repeat(1000., nm)\n",
    "reduced_classes = retained_classes\n",
    "param = []\n",
    "for i in range(nw) :\n",
    "    dict_list = []\n",
    "    for m in range(nm) :\n",
    "        dictionary = {\"mu\":[],\"Sigma\":[]}\n",
    "        Sigma = np.array(np.matrix(Psi0[:,:,m]).getH())\n",
    "        mu = mu0[m]\n",
    "        dictionary['mu']= mu\n",
    "        dictionary['Sigma']= Sigma\n",
    "        dict_list.append(dictionary)\n",
    "    z = np.random.choice(np.arange(1, nm+1), size=n, p=np.array(alph)/np.sum(alph), replace=True)\n",
    "    chain_i = [dict_list, alph, z]\n",
    "    param.append(chain_i)\n",
    "labels = np.apply_along_axis(lambda x: ''.join(map(str, x + 1)), axis=1, arr=retained_classes)"
   ]
  },
  {
   "cell_type": "code",
   "execution_count": 183,
   "id": "72f103be",
   "metadata": {},
   "outputs": [],
   "source": [
    "# run an MCMC\n",
    "\n",
    "result_chain, acpt_rate_chain, tune_df_chain = run_mcmc(dat, param, hyp, alpha, nstep, labels, tune_df, opt_rate=0.3)"
   ]
  },
  {
   "cell_type": "code",
   "execution_count": 189,
   "id": "71d5ec3e",
   "metadata": {},
   "outputs": [],
   "source": [
    "# mu_chain output\n",
    "\n",
    "mu_chains = []\n",
    "for i in range(nm):\n",
    "    mu_chains_i = []\n",
    "    for j in range(nstep+1):\n",
    "        mu_chains_i.append(result_chain[j][0][0][i]['mu'].tolist())\n",
    "    mu_chains.append(mu_chains_i)\n",
    "    \n",
    "mu_chains_reshaped = np.array(mu_chains).reshape(np.array(mu_chains).shape[0], -1)\n",
    "np.savetxt('mu_chains_reshaped.txt', mu_chains_reshaped)"
   ]
  },
  {
   "cell_type": "code",
   "execution_count": 191,
   "id": "6746b06d",
   "metadata": {},
   "outputs": [],
   "source": [
    "# Sigma_chain output\n",
    "\n",
    "Sigma_chains = []\n",
    "for i in range(nm):\n",
    "    Sigma_chains_i = []\n",
    "    for j in range(nstep+1):\n",
    "        Sigma_chains_i.append(result_chain[j][0][0][i]['Sigma'].tolist())\n",
    "    Sigma_chains.append(Sigma_chains_i)\n",
    "\n",
    "Sigma_chains_reshaped = np.array(Sigma_chains).reshape(np.array(Sigma_chains).shape[0], -1)\n",
    "np.savetxt('Sigma_chains_reshaped.txt', Sigma_chains_reshaped)"
   ]
  },
  {
   "cell_type": "code",
   "execution_count": 249,
   "id": "8b37bde5",
   "metadata": {},
   "outputs": [],
   "source": [
    "# prop_chain output\n",
    "\n",
    "prop_chain = []\n",
    "for j in range(nstep+1):\n",
    "    prop_chain.append(result_chain[j][0][1])\n",
    "\n",
    "np.savetxt('prop_chain.txt', prop_chain)"
   ]
  },
  {
   "cell_type": "code",
   "execution_count": 211,
   "id": "7c4ce401",
   "metadata": {},
   "outputs": [],
   "source": [
    "# z_chain output\n",
    "\n",
    "z_chain = []\n",
    "for j in range(nstep+1):\n",
    "    z_chain.append(result_chain[j][0][2])\n",
    "\n",
    "np.savetxt('z_chain.txt', z_chain)"
   ]
  }
 ],
 "metadata": {
  "kernelspec": {
   "display_name": "Python 3 (ipykernel)",
   "language": "python",
   "name": "python3"
  },
  "language_info": {
   "codemirror_mode": {
    "name": "ipython",
    "version": 3
   },
   "file_extension": ".py",
   "mimetype": "text/x-python",
   "name": "python",
   "nbconvert_exporter": "python",
   "pygments_lexer": "ipython3",
   "version": "3.9.7"
  }
 },
 "nbformat": 4,
 "nbformat_minor": 5
}
