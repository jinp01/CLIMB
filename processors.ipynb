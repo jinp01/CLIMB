{
 "cells": [
  {
   "cell_type": "code",
   "execution_count": 1,
   "id": "650c3aa3",
   "metadata": {},
   "outputs": [],
   "source": [
    "import numpy as np"
   ]
  },
  {
   "cell_type": "code",
   "execution_count": 2,
   "id": "bebc8117",
   "metadata": {},
   "outputs": [],
   "source": [
    "def get_mu_chain(chain, cluster_num, walker_num=1):\n",
    "    \"\"\"\n",
    "    For a given walker and cluster number, return\n",
    "    the corresponding chain of mu estimates in each dimension\n",
    "    \"\"\"\n",
    "    nw, nstep = chain.shape[0], chain.shape[1]\n",
    "    nm = chain[0, 0][1].shape[0]\n",
    "\n",
    "    assert nw >= walker_num, \"walker_num must be less than or equal to the number of walkers\"\n",
    "    assert nm >= cluster_num, \"cluster_num must be less than or equal to the number of clusters\"\n",
    "\n",
    "    mu_chain = np.zeros((nstep, nm))\n",
    "\n",
    "    for step in range(nstep):\n",
    "        mu_chain[step] = chain[walker_num - 1, step][cluster_num - 1][0]\n",
    "\n",
    "    return mu_chain"
   ]
  },
  {
   "cell_type": "code",
   "execution_count": 3,
   "id": "da6266d7",
   "metadata": {},
   "outputs": [],
   "source": [
    "def get_Sigma_chain(chain, cluster_num, walker_num=1):\n",
    "    \"\"\"\n",
    "    For a given walker and cluster number, return\n",
    "    the corresponding chain of covariance estimates in each dimension\n",
    "    \"\"\"\n",
    "    nw, nstep = chain.shape[0], chain.shape[1]\n",
    "    nm = chain[0, 0, 0][0].shape[0]\n",
    "    dm = chain[0, 0, 0][0][0][\"Sigma\"].shape[0]\n",
    "\n",
    "    assert nw >= walker_num, \"walker_num must be less than or equal to the number of walkers\"\n",
    "    assert nm >= cluster_num, \"cluster_num must be less than or equal to the number of clusters\"\n",
    "\n",
    "    Sigma_chain = np.zeros((nstep, dm, dm))\n",
    "\n",
    "    for step in range(nstep):\n",
    "        Sigma_chain[step] = chain[walker_num - 1, step][cluster_num - 1][0][\"Sigma\"]\n",
    "\n",
    "    return Sigma_chain"
   ]
  },
  {
   "cell_type": "code",
   "execution_count": 4,
   "id": "8b1c917b",
   "metadata": {},
   "outputs": [],
   "source": [
    "def get_prop_chain(chain, walker_num=1):\n",
    "    \"\"\"\n",
    "    For a given walker, return the corresponding\n",
    "    chain of mixing weight estimates for each cluster\n",
    "    \"\"\"\n",
    "    nw, nstep = chain.shape[0], chain.shape[1]\n",
    "\n",
    "    assert nw >= walker_num, \"walker_num must be less than or equal to the number of walkers\"\n",
    "\n",
    "    prop_chain = np.zeros((nstep,))\n",
    "\n",
    "    for step in range(nstep):\n",
    "        prop_chain[step] = chain[walker_num - 1, step][1]\n",
    "\n",
    "    return prop_chain"
   ]
  },
  {
   "cell_type": "code",
   "execution_count": 1,
   "id": "76af4f3c",
   "metadata": {},
   "outputs": [],
   "source": [
    "def get_z_chain(chain, walker_num=1):\n",
    "    \"\"\"\n",
    "    For a given walker, return the\n",
    "    corresponding chain of z estimates for each cluster and each observation\n",
    "    \"\"\"\n",
    "    nw, nstep = chain.shape[0], chain.shape[1]\n",
    "\n",
    "    assert nw >= walker_num, \"walker_num must be less than or equal to the number of walkers\"\n",
    "\n",
    "    z_chain = np.zeros((nstep, chain.shape[2]))\n",
    "\n",
    "    for step in range(nstep):\n",
    "        for i, val in enumerate(chain[walker_num - 1, step]):\n",
    "            z_chain[step, i] = val[2]\n",
    "\n",
    "    return z_chain"
   ]
  },
  {
   "cell_type": "code",
   "execution_count": 6,
   "id": "432ee4d6",
   "metadata": {},
   "outputs": [],
   "source": [
    "def get_z_ests(z_chain):\n",
    "    n = z_chain.shape[0]\n",
    "    sorted_chain = np.sort(z_chain, axis=1)\n",
    "    \n",
    "    def rle(x):\n",
    "        values = np.unique(x)\n",
    "        counts = np.diff(np.where(np.concatenate(([values[0] - 1], values != x, [True])))[0])\n",
    "        return np.array([values, counts])\n",
    "    \n",
    "    rles = np.apply_along_axis(rle, axis=1, arr=sorted_chain)\n",
    "    \n",
    "    maxidx = np.array([np.argmax(rle[1]) for rle in rles])\n",
    "    \n",
    "    z_ests = np.array([rle[0][rle[1].argmax()] for rle in rles])\n",
    "    z_ests = z_ests.reshape((n,))\n",
    "    \n",
    "    return z_ests"
   ]
  }
 ],
 "metadata": {
  "kernelspec": {
   "display_name": "Python 3 (ipykernel)",
   "language": "python",
   "name": "python3"
  },
  "language_info": {
   "codemirror_mode": {
    "name": "ipython",
    "version": 3
   },
   "file_extension": ".py",
   "mimetype": "text/x-python",
   "name": "python",
   "nbconvert_exporter": "python",
   "pygments_lexer": "ipython3",
   "version": "3.9.7"
  }
 },
 "nbformat": 4,
 "nbformat_minor": 5
}
